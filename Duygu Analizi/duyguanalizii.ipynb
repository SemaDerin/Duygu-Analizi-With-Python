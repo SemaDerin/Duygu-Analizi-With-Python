{
 "cells": [
  {
   "cell_type": "code",
   "execution_count": 1,
   "id": "5a3e45be",
   "metadata": {},
   "outputs": [],
   "source": [
    "import re\n",
    "import string\n",
    "import numpy as np\n",
    "import pandas as pd\n",
    "from tensorflow.keras.optimizers import Adam\n",
    "from tensorflow.keras.models import Sequential\n",
    "from tensorflow.keras.preprocessing.text import Tokenizer\n",
    "from tensorflow.keras.layers import Embedding, GRU, Dense\n",
    "from tensorflow.keras.preprocessing.sequence import pad_sequences\n"
   ]
  },
  {
   "cell_type": "code",
   "execution_count": 2,
   "id": "96719618",
   "metadata": {},
   "outputs": [
    {
     "data": {
      "text/html": [
       "<div>\n",
       "<style scoped>\n",
       "    .dataframe tbody tr th:only-of-type {\n",
       "        vertical-align: middle;\n",
       "    }\n",
       "\n",
       "    .dataframe tbody tr th {\n",
       "        vertical-align: top;\n",
       "    }\n",
       "\n",
       "    .dataframe thead th {\n",
       "        text-align: right;\n",
       "    }\n",
       "</style>\n",
       "<table border=\"1\" class=\"dataframe\">\n",
       "  <thead>\n",
       "    <tr style=\"text-align: right;\">\n",
       "      <th></th>\n",
       "      <th>Name</th>\n",
       "      <th>Brand</th>\n",
       "      <th>Comment</th>\n",
       "      <th>Rate</th>\n",
       "    </tr>\n",
       "  </thead>\n",
       "  <tbody>\n",
       "    <tr>\n",
       "      <th>0</th>\n",
       "      <td>Monster Abra A7 V13.2.3 Intel Core I5-11400h 1...</td>\n",
       "      <td>MONSTER</td>\n",
       "      <td>oyun için aldık. f/p ürünü</td>\n",
       "      <td>5.0</td>\n",
       "    </tr>\n",
       "    <tr>\n",
       "      <th>1</th>\n",
       "      <td>Monster Abra A7 V13.2.3 Intel Core I5-11400h 1...</td>\n",
       "      <td>MONSTER</td>\n",
       "      <td>Gerçekten aldığım için hiç pişman olmadım hızl...</td>\n",
       "      <td>5.0</td>\n",
       "    </tr>\n",
       "    <tr>\n",
       "      <th>2</th>\n",
       "      <td>Monster Abra A7 V13.2.3 Intel Core I5-11400h 1...</td>\n",
       "      <td>MONSTER</td>\n",
       "      <td>çok beğendim indirimde almıştım</td>\n",
       "      <td>5.0</td>\n",
       "    </tr>\n",
       "    <tr>\n",
       "      <th>3</th>\n",
       "      <td>Monster Abra A7 V13.2.3 Intel Core I5-11400h 1...</td>\n",
       "      <td>MONSTER</td>\n",
       "      <td>çok iyi paketlenmiş teşekkürler</td>\n",
       "      <td>5.0</td>\n",
       "    </tr>\n",
       "    <tr>\n",
       "      <th>4</th>\n",
       "      <td>Monster Abra A7 V13.2.3 Intel Core I5-11400h 1...</td>\n",
       "      <td>MONSTER</td>\n",
       "      <td>İndirimde iken aldikk çok iyi cihaz 10/10</td>\n",
       "      <td>5.0</td>\n",
       "    </tr>\n",
       "  </tbody>\n",
       "</table>\n",
       "</div>"
      ],
      "text/plain": [
       "                                                Name    Brand  \\\n",
       "0  Monster Abra A7 V13.2.3 Intel Core I5-11400h 1...  MONSTER   \n",
       "1  Monster Abra A7 V13.2.3 Intel Core I5-11400h 1...  MONSTER   \n",
       "2  Monster Abra A7 V13.2.3 Intel Core I5-11400h 1...  MONSTER   \n",
       "3  Monster Abra A7 V13.2.3 Intel Core I5-11400h 1...  MONSTER   \n",
       "4  Monster Abra A7 V13.2.3 Intel Core I5-11400h 1...  MONSTER   \n",
       "\n",
       "                                             Comment  Rate  \n",
       "0                         oyun için aldık. f/p ürünü   5.0  \n",
       "1  Gerçekten aldığım için hiç pişman olmadım hızl...   5.0  \n",
       "2                    çok beğendim indirimde almıştım   5.0  \n",
       "3                    çok iyi paketlenmiş teşekkürler   5.0  \n",
       "4          İndirimde iken aldikk çok iyi cihaz 10/10   5.0  "
      ]
     },
     "execution_count": 2,
     "metadata": {},
     "output_type": "execute_result"
    }
   ],
   "source": [
    "df = pd.read_csv(\"YORUMLAR.csv\", encoding='cp1254', header=None, names=[\"Name\", \"Brand\", \"Comment\",\"Rate\"])\n",
    "df.head()"
   ]
  },
  {
   "cell_type": "code",
   "execution_count": 3,
   "id": "aa0c2708",
   "metadata": {},
   "outputs": [
    {
     "data": {
      "text/plain": [
       "5.0    998\n",
       "1.0    345\n",
       "4.0    336\n",
       "3.0    174\n",
       "2.0    102\n",
       "Name: Rate, dtype: int64"
      ]
     },
     "execution_count": 3,
     "metadata": {},
     "output_type": "execute_result"
    }
   ],
   "source": [
    "floatize = lambda x: float(x[0:-2]) if isinstance(x, str) else x\n",
    "\n",
    "df[\"Rate\"] = df[\"Rate\"].apply(floatize)\n",
    "df[\"Rate\"].value_counts()"
   ]
  },
  {
   "cell_type": "code",
   "execution_count": 4,
   "id": "6ad21ee0",
   "metadata": {},
   "outputs": [
    {
     "data": {
      "text/plain": [
       "1.0    1334\n",
       "0.0     447\n",
       "Name: Rate, dtype: int64"
      ]
     },
     "execution_count": 4,
     "metadata": {},
     "output_type": "execute_result"
    }
   ],
   "source": [
    "df.drop(df[df[\"Rate\"] == 3].index, inplace = True)\n",
    "df[\"Rate\"] = df[\"Rate\"].replace(1, 0)\n",
    "df[\"Rate\"] = df[\"Rate\"].replace(2, 0)\n",
    "df[\"Rate\"] = df[\"Rate\"].replace(4, 1)\n",
    "df[\"Rate\"] = df[\"Rate\"].replace(5, 1)\n",
    "df[\"Rate\"].value_counts()"
   ]
  },
  {
   "cell_type": "code",
   "execution_count": 5,
   "id": "25bcba79",
   "metadata": {},
   "outputs": [
    {
     "data": {
      "text/html": [
       "<div>\n",
       "<style scoped>\n",
       "    .dataframe tbody tr th:only-of-type {\n",
       "        vertical-align: middle;\n",
       "    }\n",
       "\n",
       "    .dataframe tbody tr th {\n",
       "        vertical-align: top;\n",
       "    }\n",
       "\n",
       "    .dataframe thead th {\n",
       "        text-align: right;\n",
       "    }\n",
       "</style>\n",
       "<table border=\"1\" class=\"dataframe\">\n",
       "  <thead>\n",
       "    <tr style=\"text-align: right;\">\n",
       "      <th></th>\n",
       "      <th>Name</th>\n",
       "      <th>Brand</th>\n",
       "      <th>Comment</th>\n",
       "      <th>Rate</th>\n",
       "    </tr>\n",
       "  </thead>\n",
       "  <tbody>\n",
       "    <tr>\n",
       "      <th>0</th>\n",
       "      <td>Monster Abra A7 V13.2.3 Intel Core I5-11400h 1...</td>\n",
       "      <td>MONSTER</td>\n",
       "      <td>oyun için aldık. f/p ürünü</td>\n",
       "      <td>1.0</td>\n",
       "    </tr>\n",
       "    <tr>\n",
       "      <th>1</th>\n",
       "      <td>Monster Abra A7 V13.2.3 Intel Core I5-11400h 1...</td>\n",
       "      <td>MONSTER</td>\n",
       "      <td>Gerçekten aldığım için hiç pişman olmadım hızl...</td>\n",
       "      <td>1.0</td>\n",
       "    </tr>\n",
       "    <tr>\n",
       "      <th>2</th>\n",
       "      <td>Monster Abra A7 V13.2.3 Intel Core I5-11400h 1...</td>\n",
       "      <td>MONSTER</td>\n",
       "      <td>çok beğendim indirimde almıştım</td>\n",
       "      <td>1.0</td>\n",
       "    </tr>\n",
       "    <tr>\n",
       "      <th>3</th>\n",
       "      <td>Monster Abra A7 V13.2.3 Intel Core I5-11400h 1...</td>\n",
       "      <td>MONSTER</td>\n",
       "      <td>çok iyi paketlenmiş teşekkürler</td>\n",
       "      <td>1.0</td>\n",
       "    </tr>\n",
       "    <tr>\n",
       "      <th>4</th>\n",
       "      <td>Monster Abra A7 V13.2.3 Intel Core I5-11400h 1...</td>\n",
       "      <td>MONSTER</td>\n",
       "      <td>İndirimde iken aldikk çok iyi cihaz 10/10</td>\n",
       "      <td>1.0</td>\n",
       "    </tr>\n",
       "  </tbody>\n",
       "</table>\n",
       "</div>"
      ],
      "text/plain": [
       "                                                Name    Brand  \\\n",
       "0  Monster Abra A7 V13.2.3 Intel Core I5-11400h 1...  MONSTER   \n",
       "1  Monster Abra A7 V13.2.3 Intel Core I5-11400h 1...  MONSTER   \n",
       "2  Monster Abra A7 V13.2.3 Intel Core I5-11400h 1...  MONSTER   \n",
       "3  Monster Abra A7 V13.2.3 Intel Core I5-11400h 1...  MONSTER   \n",
       "4  Monster Abra A7 V13.2.3 Intel Core I5-11400h 1...  MONSTER   \n",
       "\n",
       "                                             Comment  Rate  \n",
       "0                         oyun için aldık. f/p ürünü   1.0  \n",
       "1  Gerçekten aldığım için hiç pişman olmadım hızl...   1.0  \n",
       "2                    çok beğendim indirimde almıştım   1.0  \n",
       "3                    çok iyi paketlenmiş teşekkürler   1.0  \n",
       "4          İndirimde iken aldikk çok iyi cihaz 10/10   1.0  "
      ]
     },
     "execution_count": 5,
     "metadata": {},
     "output_type": "execute_result"
    }
   ],
   "source": [
    "df.reset_index(inplace = True)\n",
    "df.drop(\"index\", axis = 1, inplace = True)\n",
    "df.head()\n"
   ]
  },
  {
   "cell_type": "code",
   "execution_count": 6,
   "id": "c8db5afd",
   "metadata": {},
   "outputs": [
    {
     "data": {
      "text/html": [
       "<div>\n",
       "<style scoped>\n",
       "    .dataframe tbody tr th:only-of-type {\n",
       "        vertical-align: middle;\n",
       "    }\n",
       "\n",
       "    .dataframe tbody tr th {\n",
       "        vertical-align: top;\n",
       "    }\n",
       "\n",
       "    .dataframe thead th {\n",
       "        text-align: right;\n",
       "    }\n",
       "</style>\n",
       "<table border=\"1\" class=\"dataframe\">\n",
       "  <thead>\n",
       "    <tr style=\"text-align: right;\">\n",
       "      <th></th>\n",
       "      <th>Name</th>\n",
       "      <th>Brand</th>\n",
       "      <th>Comment</th>\n",
       "      <th>Rate</th>\n",
       "    </tr>\n",
       "  </thead>\n",
       "  <tbody>\n",
       "    <tr>\n",
       "      <th>0</th>\n",
       "      <td>Monster Abra A7 V13.2.3 Intel Core I5-11400h 1...</td>\n",
       "      <td>MONSTER</td>\n",
       "      <td>oyun için aldık. f/p ürünü</td>\n",
       "      <td>1.0</td>\n",
       "    </tr>\n",
       "    <tr>\n",
       "      <th>1</th>\n",
       "      <td>Monster Abra A7 V13.2.3 Intel Core I5-11400h 1...</td>\n",
       "      <td>MONSTER</td>\n",
       "      <td>gerçekten aldığım için hiç pişman olmadım hızl...</td>\n",
       "      <td>1.0</td>\n",
       "    </tr>\n",
       "    <tr>\n",
       "      <th>2</th>\n",
       "      <td>Monster Abra A7 V13.2.3 Intel Core I5-11400h 1...</td>\n",
       "      <td>MONSTER</td>\n",
       "      <td>çok beğendim indirimde almıştım</td>\n",
       "      <td>1.0</td>\n",
       "    </tr>\n",
       "    <tr>\n",
       "      <th>3</th>\n",
       "      <td>Monster Abra A7 V13.2.3 Intel Core I5-11400h 1...</td>\n",
       "      <td>MONSTER</td>\n",
       "      <td>çok iyi paketlenmiş teşekkürler</td>\n",
       "      <td>1.0</td>\n",
       "    </tr>\n",
       "    <tr>\n",
       "      <th>4</th>\n",
       "      <td>Monster Abra A7 V13.2.3 Intel Core I5-11400h 1...</td>\n",
       "      <td>MONSTER</td>\n",
       "      <td>i̇ndirimde iken aldikk çok iyi cihaz 10/10</td>\n",
       "      <td>1.0</td>\n",
       "    </tr>\n",
       "  </tbody>\n",
       "</table>\n",
       "</div>"
      ],
      "text/plain": [
       "                                                Name    Brand  \\\n",
       "0  Monster Abra A7 V13.2.3 Intel Core I5-11400h 1...  MONSTER   \n",
       "1  Monster Abra A7 V13.2.3 Intel Core I5-11400h 1...  MONSTER   \n",
       "2  Monster Abra A7 V13.2.3 Intel Core I5-11400h 1...  MONSTER   \n",
       "3  Monster Abra A7 V13.2.3 Intel Core I5-11400h 1...  MONSTER   \n",
       "4  Monster Abra A7 V13.2.3 Intel Core I5-11400h 1...  MONSTER   \n",
       "\n",
       "                                             Comment  Rate  \n",
       "0                         oyun için aldık. f/p ürünü   1.0  \n",
       "1  gerçekten aldığım için hiç pişman olmadım hızl...   1.0  \n",
       "2                    çok beğendim indirimde almıştım   1.0  \n",
       "3                    çok iyi paketlenmiş teşekkürler   1.0  \n",
       "4         i̇ndirimde iken aldikk çok iyi cihaz 10/10   1.0  "
      ]
     },
     "execution_count": 6,
     "metadata": {},
     "output_type": "execute_result"
    }
   ],
   "source": [
    "df[\"Comment\"] = df[\"Comment\"].fillna(\"\").apply(lambda x: x.lower())\n",
    "df.head()\n"
   ]
  },
  {
   "cell_type": "code",
   "execution_count": 7,
   "id": "24b87e24",
   "metadata": {},
   "outputs": [
    {
     "data": {
      "text/html": [
       "<div>\n",
       "<style scoped>\n",
       "    .dataframe tbody tr th:only-of-type {\n",
       "        vertical-align: middle;\n",
       "    }\n",
       "\n",
       "    .dataframe tbody tr th {\n",
       "        vertical-align: top;\n",
       "    }\n",
       "\n",
       "    .dataframe thead th {\n",
       "        text-align: right;\n",
       "    }\n",
       "</style>\n",
       "<table border=\"1\" class=\"dataframe\">\n",
       "  <thead>\n",
       "    <tr style=\"text-align: right;\">\n",
       "      <th></th>\n",
       "      <th>Name</th>\n",
       "      <th>Brand</th>\n",
       "      <th>Comment</th>\n",
       "      <th>Rate</th>\n",
       "    </tr>\n",
       "  </thead>\n",
       "  <tbody>\n",
       "    <tr>\n",
       "      <th>0</th>\n",
       "      <td>Monster Abra A7 V13.2.3 Intel Core I5-11400h 1...</td>\n",
       "      <td>MONSTER</td>\n",
       "      <td>oyun için aldık fp ürünü</td>\n",
       "      <td>1.0</td>\n",
       "    </tr>\n",
       "    <tr>\n",
       "      <th>1</th>\n",
       "      <td>Monster Abra A7 V13.2.3 Intel Core I5-11400h 1...</td>\n",
       "      <td>MONSTER</td>\n",
       "      <td>gerçekten aldığım için hiç pişman olmadım hızl...</td>\n",
       "      <td>1.0</td>\n",
       "    </tr>\n",
       "    <tr>\n",
       "      <th>2</th>\n",
       "      <td>Monster Abra A7 V13.2.3 Intel Core I5-11400h 1...</td>\n",
       "      <td>MONSTER</td>\n",
       "      <td>çok beğendim indirimde almıştım</td>\n",
       "      <td>1.0</td>\n",
       "    </tr>\n",
       "    <tr>\n",
       "      <th>3</th>\n",
       "      <td>Monster Abra A7 V13.2.3 Intel Core I5-11400h 1...</td>\n",
       "      <td>MONSTER</td>\n",
       "      <td>çok iyi paketlenmiş teşekkürler</td>\n",
       "      <td>1.0</td>\n",
       "    </tr>\n",
       "    <tr>\n",
       "      <th>4</th>\n",
       "      <td>Monster Abra A7 V13.2.3 Intel Core I5-11400h 1...</td>\n",
       "      <td>MONSTER</td>\n",
       "      <td>i̇ndirimde iken aldikk çok iyi cihaz 1010</td>\n",
       "      <td>1.0</td>\n",
       "    </tr>\n",
       "  </tbody>\n",
       "</table>\n",
       "</div>"
      ],
      "text/plain": [
       "                                                Name    Brand  \\\n",
       "0  Monster Abra A7 V13.2.3 Intel Core I5-11400h 1...  MONSTER   \n",
       "1  Monster Abra A7 V13.2.3 Intel Core I5-11400h 1...  MONSTER   \n",
       "2  Monster Abra A7 V13.2.3 Intel Core I5-11400h 1...  MONSTER   \n",
       "3  Monster Abra A7 V13.2.3 Intel Core I5-11400h 1...  MONSTER   \n",
       "4  Monster Abra A7 V13.2.3 Intel Core I5-11400h 1...  MONSTER   \n",
       "\n",
       "                                             Comment  Rate  \n",
       "0                           oyun için aldık fp ürünü   1.0  \n",
       "1  gerçekten aldığım için hiç pişman olmadım hızl...   1.0  \n",
       "2                    çok beğendim indirimde almıştım   1.0  \n",
       "3                    çok iyi paketlenmiş teşekkürler   1.0  \n",
       "4          i̇ndirimde iken aldikk çok iyi cihaz 1010   1.0  "
      ]
     },
     "execution_count": 7,
     "metadata": {},
     "output_type": "execute_result"
    }
   ],
   "source": [
    "def remove_punctuation(text):\n",
    "    no_punc = [words for words in text if words not in string.punctuation]\n",
    "    word_wo_punc = \"\".join(no_punc)\n",
    "    return word_wo_punc\n",
    "\n",
    "df[\"Comment\"] = df[\"Comment\"].apply(lambda x: remove_punctuation(x))\n",
    "df[\"Comment\"] = df[\"Comment\"].apply(lambda x: x.replace(\"\\r\", \" \"))\n",
    "df[\"Comment\"] = df[\"Comment\"].apply(lambda x: x.replace(\"\\n\", \" \"))\n",
    "\n",
    "df.head()"
   ]
  },
  {
   "cell_type": "code",
   "execution_count": 8,
   "id": "42f96fa7",
   "metadata": {},
   "outputs": [
    {
     "data": {
      "text/html": [
       "<div>\n",
       "<style scoped>\n",
       "    .dataframe tbody tr th:only-of-type {\n",
       "        vertical-align: middle;\n",
       "    }\n",
       "\n",
       "    .dataframe tbody tr th {\n",
       "        vertical-align: top;\n",
       "    }\n",
       "\n",
       "    .dataframe thead th {\n",
       "        text-align: right;\n",
       "    }\n",
       "</style>\n",
       "<table border=\"1\" class=\"dataframe\">\n",
       "  <thead>\n",
       "    <tr style=\"text-align: right;\">\n",
       "      <th></th>\n",
       "      <th>Name</th>\n",
       "      <th>Brand</th>\n",
       "      <th>Comment</th>\n",
       "      <th>Rate</th>\n",
       "    </tr>\n",
       "  </thead>\n",
       "  <tbody>\n",
       "    <tr>\n",
       "      <th>0</th>\n",
       "      <td>Monster Abra A7 V13.2.3 Intel Core I5-11400h 1...</td>\n",
       "      <td>MONSTER</td>\n",
       "      <td>oyun için aldık fp ürünü</td>\n",
       "      <td>1.0</td>\n",
       "    </tr>\n",
       "    <tr>\n",
       "      <th>1</th>\n",
       "      <td>Monster Abra A7 V13.2.3 Intel Core I5-11400h 1...</td>\n",
       "      <td>MONSTER</td>\n",
       "      <td>gerçekten aldığım için hiç pişman olmadım hızl...</td>\n",
       "      <td>1.0</td>\n",
       "    </tr>\n",
       "    <tr>\n",
       "      <th>2</th>\n",
       "      <td>Monster Abra A7 V13.2.3 Intel Core I5-11400h 1...</td>\n",
       "      <td>MONSTER</td>\n",
       "      <td>çok beğendim indirimde almıştım</td>\n",
       "      <td>1.0</td>\n",
       "    </tr>\n",
       "    <tr>\n",
       "      <th>3</th>\n",
       "      <td>Monster Abra A7 V13.2.3 Intel Core I5-11400h 1...</td>\n",
       "      <td>MONSTER</td>\n",
       "      <td>çok iyi paketlenmiş teşekkürler</td>\n",
       "      <td>1.0</td>\n",
       "    </tr>\n",
       "    <tr>\n",
       "      <th>4</th>\n",
       "      <td>Monster Abra A7 V13.2.3 Intel Core I5-11400h 1...</td>\n",
       "      <td>MONSTER</td>\n",
       "      <td>i̇ndirimde iken aldikk çok iyi cihaz</td>\n",
       "      <td>1.0</td>\n",
       "    </tr>\n",
       "  </tbody>\n",
       "</table>\n",
       "</div>"
      ],
      "text/plain": [
       "                                                Name    Brand  \\\n",
       "0  Monster Abra A7 V13.2.3 Intel Core I5-11400h 1...  MONSTER   \n",
       "1  Monster Abra A7 V13.2.3 Intel Core I5-11400h 1...  MONSTER   \n",
       "2  Monster Abra A7 V13.2.3 Intel Core I5-11400h 1...  MONSTER   \n",
       "3  Monster Abra A7 V13.2.3 Intel Core I5-11400h 1...  MONSTER   \n",
       "4  Monster Abra A7 V13.2.3 Intel Core I5-11400h 1...  MONSTER   \n",
       "\n",
       "                                             Comment  Rate  \n",
       "0                           oyun için aldık fp ürünü   1.0  \n",
       "1  gerçekten aldığım için hiç pişman olmadım hızl...   1.0  \n",
       "2                    çok beğendim indirimde almıştım   1.0  \n",
       "3                    çok iyi paketlenmiş teşekkürler   1.0  \n",
       "4              i̇ndirimde iken aldikk çok iyi cihaz    1.0  "
      ]
     },
     "execution_count": 8,
     "metadata": {},
     "output_type": "execute_result"
    }
   ],
   "source": [
    "def remove_numeric(corpus):\n",
    "    output = \"\".join(words for words in corpus if not words.isdigit())\n",
    "    return output\n",
    "\n",
    "df[\"Comment\"] = df[\"Comment\"].apply(lambda x: remove_numeric(x)) \n",
    "df.head()"
   ]
  },
  {
   "cell_type": "code",
   "execution_count": 9,
   "id": "01593cfa",
   "metadata": {},
   "outputs": [],
   "source": [
    "target = df[\"Rate\"].values.tolist()\n",
    "data = df[\"Comment\"].values.tolist()\n",
    "\n",
    "cutoff = int(len(data)*0.80)\n",
    "\n",
    "X_train, X_test = data[:cutoff], data[cutoff:]\n",
    "y_train, y_test = target[:cutoff], target[cutoff:]"
   ]
  },
  {
   "cell_type": "code",
   "execution_count": 10,
   "id": "73758b6a",
   "metadata": {},
   "outputs": [],
   "source": [
    "num_words = 10000\n",
    "tokenizer = Tokenizer(num_words = num_words)\n",
    "tokenizer.fit_on_texts(data)\n",
    "# tokenizer.word_index\n"
   ]
  },
  {
   "cell_type": "code",
   "execution_count": 11,
   "id": "12dd3158",
   "metadata": {},
   "outputs": [
    {
     "name": "stdout",
     "output_type": "stream",
     "text": [
      "['pc gerçekten mükemmel oğluma karne hediyesi olarak aldım bayıldı hiç tereddüt etmeden alabilirsiniz oyunlarıda kasmadan çok rahat oynuyor']\n",
      "[112, 57, 70, 293, 521, 160, 21, 13, 3395, 58, 319, 413, 134, 2424, 719, 1, 191, 537]\n"
     ]
    }
   ],
   "source": [
    "X_train_tokens = tokenizer.texts_to_sequences(X_train)\n",
    "X_test_tokens = tokenizer.texts_to_sequences(X_test)\n",
    "\n",
    "print([X_train[1000]])\n",
    "print(X_train_tokens[1000])\n"
   ]
  },
  {
   "cell_type": "code",
   "execution_count": 12,
   "id": "b9b1d117",
   "metadata": {},
   "outputs": [
    {
     "data": {
      "text/plain": [
       "array([  5,  14,   4, ..., 115,  37,  61])"
      ]
     },
     "execution_count": 12,
     "metadata": {},
     "output_type": "execute_result"
    }
   ],
   "source": [
    "num_tokens = [len(tokens) for tokens in X_train_tokens + X_test_tokens]\n",
    "num_tokens = np.array(num_tokens)\n",
    "num_tokens"
   ]
  },
  {
   "cell_type": "code",
   "execution_count": 13,
   "id": "cd0d796d",
   "metadata": {},
   "outputs": [
    {
     "data": {
      "text/plain": [
       "22.848932676518885"
      ]
     },
     "execution_count": 13,
     "metadata": {},
     "output_type": "execute_result"
    }
   ],
   "source": [
    "np.mean(num_tokens)"
   ]
  },
  {
   "cell_type": "code",
   "execution_count": 14,
   "id": "3b6c1303",
   "metadata": {},
   "outputs": [
    {
     "data": {
      "text/plain": [
       "249"
      ]
     },
     "execution_count": 14,
     "metadata": {},
     "output_type": "execute_result"
    }
   ],
   "source": [
    "np.max(num_tokens)"
   ]
  },
  {
   "cell_type": "code",
   "execution_count": 15,
   "id": "e98a8db9",
   "metadata": {},
   "outputs": [
    {
     "data": {
      "text/plain": [
       "70"
      ]
     },
     "execution_count": 15,
     "metadata": {},
     "output_type": "execute_result"
    }
   ],
   "source": [
    "max_tokens = np.mean(num_tokens) + (2*np.std(num_tokens))\n",
    "max_tokens = int(max_tokens)\n",
    "max_tokens"
   ]
  },
  {
   "cell_type": "code",
   "execution_count": 16,
   "id": "53fd5504",
   "metadata": {},
   "outputs": [
    {
     "data": {
      "text/plain": [
       "0.9594964422550629"
      ]
     },
     "execution_count": 16,
     "metadata": {},
     "output_type": "execute_result"
    }
   ],
   "source": [
    "np.sum(num_tokens < max_tokens) / len(num_tokens)"
   ]
  },
  {
   "cell_type": "code",
   "execution_count": 17,
   "id": "5f4f85a2",
   "metadata": {},
   "outputs": [
    {
     "name": "stdout",
     "output_type": "stream",
     "text": [
      "(1461, 70)\n",
      "(366, 70)\n"
     ]
    }
   ],
   "source": [
    "X_train_pad = pad_sequences(X_train_tokens, maxlen = max_tokens) \n",
    "X_test_pad = pad_sequences(X_test_tokens, maxlen = max_tokens)\n",
    "\n",
    "print(X_train_pad.shape)\n",
    "print(X_test_pad.shape)"
   ]
  },
  {
   "cell_type": "code",
   "execution_count": 18,
   "id": "2c2f147e",
   "metadata": {},
   "outputs": [
    {
     "data": {
      "text/plain": [
       "array([ 109, 1027, 1862,  171,  200])"
      ]
     },
     "execution_count": 18,
     "metadata": {},
     "output_type": "execute_result"
    }
   ],
   "source": [
    "np.array(X_train_tokens[800])"
   ]
  },
  {
   "cell_type": "code",
   "execution_count": 19,
   "id": "f9077f7c",
   "metadata": {},
   "outputs": [
    {
     "data": {
      "text/plain": [
       "array([   0,    0,    0,    0,    0,    0,    0,    0,    0,    0,    0,\n",
       "          0,    0,    0,    0,    0,    0,    0,    0,    0,    0,    0,\n",
       "          0,    0,    0,    0,    0,    0,    0,    0,    0,    0,    0,\n",
       "          0,    0,    0,    0,    0,    0,    0,    0,    0,    0,    0,\n",
       "          0,    0,    0,    0,    0,    0,    0,    0,    0,    0,    0,\n",
       "          0,    0,    0,    0,    0,    0,    0,    0,    0,    0,    0,\n",
       "        342,    7, 1911,    5])"
      ]
     },
     "execution_count": 19,
     "metadata": {},
     "output_type": "execute_result"
    }
   ],
   "source": [
    "X_train_pad[500]"
   ]
  },
  {
   "cell_type": "code",
   "execution_count": 20,
   "id": "730caf6d",
   "metadata": {},
   "outputs": [],
   "source": [
    "idx = tokenizer.word_index\n",
    "inverse_map = dict(zip(idx.values(), idx.keys()))\n",
    "\n",
    "def tokens_to_string(tokens):\n",
    "    words = [inverse_map[token] for token in tokens if token != 0]\n",
    "    text = \" \".join(words) # Kelimeler aralarında boşluk bırakılarak ard arda yazılacaktır.\n",
    "    return text"
   ]
  },
  {
   "cell_type": "code",
   "execution_count": 21,
   "id": "c9e07bd9",
   "metadata": {},
   "outputs": [
    {
     "data": {
      "text/plain": [
       "'ürünü yaklaşık aydır kullanıyorum ve kesinlikle önermiyorum şarja takınca kendiliğinden kapanıyor önemli bir şey yapıyorsanız geçmiş olsun ara ara ekran gidip geliyor bazen açamıyorsunuz bilgisayarın canı ne zaman isterse o zaman açılıyor fan sesi çok fazla aşırı ısınıyor hoparlörleri çok kötü şimdiye kadar farklı marka bilgisayar kullandım kesinlikle aralarında en kötüsü'"
      ]
     },
     "execution_count": 21,
     "metadata": {},
     "output_type": "execute_result"
    }
   ],
   "source": [
    "tokens_to_string(X_train_tokens[350])"
   ]
  },
  {
   "cell_type": "code",
   "execution_count": 22,
   "id": "cd2f33e9",
   "metadata": {},
   "outputs": [],
   "source": [
    "embedding_size = 50\n",
    "model = Sequential()\n",
    "model.add(Embedding(input_dim = num_words, output_dim = embedding_size, input_length = max_tokens, name = \"embedding_layer\"))\n",
    "model.add(GRU(units = 16, return_sequences = True))\n",
    "model.add(GRU(units = 8, return_sequences = True))\n",
    "model.add(GRU(units = 4))\n",
    "model.add(Dense(1, activation = \"sigmoid\"))"
   ]
  },
  {
   "cell_type": "code",
   "execution_count": 23,
   "id": "f6457615",
   "metadata": {},
   "outputs": [
    {
     "name": "stderr",
     "output_type": "stream",
     "text": [
      "WARNING:absl:`lr` is deprecated, please use `learning_rate` instead, or use the legacy optimizer, e.g.,tf.keras.optimizers.legacy.Adam.\n"
     ]
    },
    {
     "name": "stdout",
     "output_type": "stream",
     "text": [
      "Model: \"sequential\"\n",
      "_________________________________________________________________\n",
      " Layer (type)                Output Shape              Param #   \n",
      "=================================================================\n",
      " embedding_layer (Embedding)  (None, 70, 50)           500000    \n",
      "                                                                 \n",
      " gru (GRU)                   (None, 70, 16)            3264      \n",
      "                                                                 \n",
      " gru_1 (GRU)                 (None, 70, 8)             624       \n",
      "                                                                 \n",
      " gru_2 (GRU)                 (None, 4)                 168       \n",
      "                                                                 \n",
      " dense (Dense)               (None, 1)                 5         \n",
      "                                                                 \n",
      "=================================================================\n",
      "Total params: 504,061\n",
      "Trainable params: 504,061\n",
      "Non-trainable params: 0\n",
      "_________________________________________________________________\n"
     ]
    }
   ],
   "source": [
    "optimizer = Adam(lr = 1e-3)\n",
    "model.compile(loss = \"binary_crossentropy\", optimizer = optimizer, metrics = [\"accuracy\"])\n",
    "model.summary()"
   ]
  },
  {
   "cell_type": "code",
   "execution_count": 24,
   "id": "2dd78e8b",
   "metadata": {},
   "outputs": [
    {
     "name": "stdout",
     "output_type": "stream",
     "text": [
      "Epoch 1/5\n",
      "6/6 [==============================] - 5s 85ms/step - loss: nan - accuracy: 0.2560\n",
      "Epoch 2/5\n",
      "6/6 [==============================] - 0s 76ms/step - loss: nan - accuracy: 0.2341\n",
      "Epoch 3/5\n",
      "6/6 [==============================] - 0s 75ms/step - loss: nan - accuracy: 0.2341\n",
      "Epoch 4/5\n",
      "6/6 [==============================] - 0s 78ms/step - loss: nan - accuracy: 0.2341\n",
      "Epoch 5/5\n",
      "6/6 [==============================] - 0s 81ms/step - loss: nan - accuracy: 0.2341\n"
     ]
    },
    {
     "data": {
      "text/plain": [
       "<keras.callbacks.History at 0x1dd3b863580>"
      ]
     },
     "execution_count": 24,
     "metadata": {},
     "output_type": "execute_result"
    }
   ],
   "source": [
    "X_train_pad = np.array(X_train_pad)\n",
    "y_train = np.array(y_train)\n",
    "\n",
    "model.fit(X_train_pad, y_train, epochs = 5, batch_size = 256)"
   ]
  },
  {
   "cell_type": "code",
   "execution_count": 25,
   "id": "8c969161",
   "metadata": {},
   "outputs": [
    {
     "name": "stdout",
     "output_type": "stream",
     "text": [
      "12/12 [==============================] - 1s 10ms/step\n"
     ]
    }
   ],
   "source": [
    "y_pred = model.predict(X_test_pad[0:1000])\n",
    "y_pred = y_pred.T[0]\n",
    "# y_pred"
   ]
  },
  {
   "cell_type": "code",
   "execution_count": 26,
   "id": "7486f552",
   "metadata": {},
   "outputs": [],
   "source": [
    "cls_pred = np.array([1.0 if p > 0.5 else 0.0 for p in y_pred])\n",
    "cls_true = np.array(y_test[0:1000])"
   ]
  },
  {
   "cell_type": "code",
   "execution_count": 27,
   "id": "e23d4842",
   "metadata": {},
   "outputs": [],
   "source": [
    "incorrect = np.where(cls_pred != cls_true)\n",
    "incorrect = incorrect[0]\n",
    "# incorrect"
   ]
  },
  {
   "cell_type": "code",
   "execution_count": 28,
   "id": "9dcafd13",
   "metadata": {},
   "outputs": [
    {
     "data": {
      "text/plain": [
       "261"
      ]
     },
     "execution_count": 28,
     "metadata": {},
     "output_type": "execute_result"
    }
   ],
   "source": [
    "len(incorrect)"
   ]
  },
  {
   "cell_type": "code",
   "execution_count": 29,
   "id": "532792ab",
   "metadata": {},
   "outputs": [
    {
     "data": {
      "text/plain": [
       "'çok ısınıyor fakat iyi bir bilgisayar'"
      ]
     },
     "execution_count": 29,
     "metadata": {},
     "output_type": "execute_result"
    }
   ],
   "source": [
    "idx = incorrect[10]\n",
    "X_test[idx]"
   ]
  },
  {
   "cell_type": "code",
   "execution_count": 30,
   "id": "6d725993",
   "metadata": {},
   "outputs": [
    {
     "data": {
      "text/plain": [
       "nan"
      ]
     },
     "execution_count": 30,
     "metadata": {},
     "output_type": "execute_result"
    }
   ],
   "source": [
    "y_pred[idx]"
   ]
  },
  {
   "cell_type": "code",
   "execution_count": 31,
   "id": "bce5c1e7",
   "metadata": {},
   "outputs": [
    {
     "data": {
      "text/plain": [
       "1.0"
      ]
     },
     "execution_count": 31,
     "metadata": {},
     "output_type": "execute_result"
    }
   ],
   "source": [
    "cls_true[idx]"
   ]
  },
  {
   "cell_type": "code",
   "execution_count": null,
   "id": "9b93c264",
   "metadata": {},
   "outputs": [],
   "source": []
  }
 ],
 "metadata": {
  "kernelspec": {
   "display_name": "Python 3 (ipykernel)",
   "language": "python",
   "name": "python3"
  },
  "language_info": {
   "codemirror_mode": {
    "name": "ipython",
    "version": 3
   },
   "file_extension": ".py",
   "mimetype": "text/x-python",
   "name": "python",
   "nbconvert_exporter": "python",
   "pygments_lexer": "ipython3",
   "version": "3.9.13"
  }
 },
 "nbformat": 4,
 "nbformat_minor": 5
}
